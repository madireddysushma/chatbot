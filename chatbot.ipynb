{
  "nbformat": 4,
  "nbformat_minor": 0,
  "metadata": {
    "colab": {
      "name": "chatbot.ipynb",
      "provenance": []
    },
    "kernelspec": {
      "name": "python3",
      "display_name": "Python 3"
    }
  },
  "cells": [
    {
      "cell_type": "code",
      "metadata": {
        "id": "YtXUaa-KX_X2",
        "colab_type": "code",
        "colab": {}
      },
      "source": [
        "#Description :This is a 'Self learning' chatbot program"
      ],
      "execution_count": 0,
      "outputs": []
    },
    {
      "cell_type": "markdown",
      "metadata": {
        "id": "AUqqNsHdYJR7",
        "colab_type": "text"
      },
      "source": [
        ""
      ]
    },
    {
      "cell_type": "code",
      "metadata": {
        "id": "6V2ir8gyY6aT",
        "colab_type": "code",
        "colab": {
          "base_uri": "https://localhost:8080/",
          "height": 51
        },
        "outputId": "2199ddf9-d347-4ae0-9c54-3469d62cc9ac"
      },
      "source": [
        "pip install nltk"
      ],
      "execution_count": 1,
      "outputs": [
        {
          "output_type": "stream",
          "text": [
            "Requirement already satisfied: nltk in /usr/local/lib/python3.6/dist-packages (3.2.5)\n",
            "Requirement already satisfied: six in /usr/local/lib/python3.6/dist-packages (from nltk) (1.12.0)\n"
          ],
          "name": "stdout"
        }
      ]
    },
    {
      "cell_type": "markdown",
      "metadata": {
        "id": "BnnApi-GZI-Q",
        "colab_type": "text"
      },
      "source": [
        "#pip install newspaper 3k"
      ]
    },
    {
      "cell_type": "code",
      "metadata": {
        "id": "LEXikNPVZQpZ",
        "colab_type": "code",
        "colab": {
          "base_uri": "https://localhost:8080/",
          "height": 870
        },
        "outputId": "bb349ba3-0676-4bb8-97fa-5d1e5de68e5d"
      },
      "source": [
        "pip install newspaper3k"
      ],
      "execution_count": 2,
      "outputs": [
        {
          "output_type": "stream",
          "text": [
            "Collecting newspaper3k\n",
            "\u001b[?25l  Downloading https://files.pythonhosted.org/packages/d7/b9/51afecb35bb61b188a4b44868001de348a0e8134b4dfa00ffc191567c4b9/newspaper3k-0.2.8-py3-none-any.whl (211kB)\n",
            "\r\u001b[K     |█▌                              | 10kB 18.5MB/s eta 0:00:01\r\u001b[K     |███                             | 20kB 1.8MB/s eta 0:00:01\r\u001b[K     |████▋                           | 30kB 2.3MB/s eta 0:00:01\r\u001b[K     |██████▏                         | 40kB 1.7MB/s eta 0:00:01\r\u001b[K     |███████▊                        | 51kB 1.8MB/s eta 0:00:01\r\u001b[K     |█████████▎                      | 61kB 2.2MB/s eta 0:00:01\r\u001b[K     |██████████▉                     | 71kB 2.5MB/s eta 0:00:01\r\u001b[K     |████████████▍                   | 81kB 2.6MB/s eta 0:00:01\r\u001b[K     |██████████████                  | 92kB 2.9MB/s eta 0:00:01\r\u001b[K     |███████████████▌                | 102kB 2.8MB/s eta 0:00:01\r\u001b[K     |█████████████████               | 112kB 2.8MB/s eta 0:00:01\r\u001b[K     |██████████████████▋             | 122kB 2.8MB/s eta 0:00:01\r\u001b[K     |████████████████████▏           | 133kB 2.8MB/s eta 0:00:01\r\u001b[K     |█████████████████████▊          | 143kB 2.8MB/s eta 0:00:01\r\u001b[K     |███████████████████████▎        | 153kB 2.8MB/s eta 0:00:01\r\u001b[K     |████████████████████████▉       | 163kB 2.8MB/s eta 0:00:01\r\u001b[K     |██████████████████████████▍     | 174kB 2.8MB/s eta 0:00:01\r\u001b[K     |████████████████████████████    | 184kB 2.8MB/s eta 0:00:01\r\u001b[K     |█████████████████████████████▌  | 194kB 2.8MB/s eta 0:00:01\r\u001b[K     |███████████████████████████████ | 204kB 2.8MB/s eta 0:00:01\r\u001b[K     |████████████████████████████████| 215kB 2.8MB/s \n",
            "\u001b[?25hRequirement already satisfied: Pillow>=3.3.0 in /usr/local/lib/python3.6/dist-packages (from newspaper3k) (7.0.0)\n",
            "Requirement already satisfied: lxml>=3.6.0 in /usr/local/lib/python3.6/dist-packages (from newspaper3k) (4.2.6)\n",
            "Collecting tldextract>=2.0.1\n",
            "\u001b[?25l  Downloading https://files.pythonhosted.org/packages/fd/0e/9ab599d6e78f0340bb1d1e28ddeacb38c8bb7f91a1b0eae9a24e9603782f/tldextract-2.2.2-py2.py3-none-any.whl (48kB)\n",
            "\u001b[K     |████████████████████████████████| 51kB 5.7MB/s \n",
            "\u001b[?25hCollecting jieba3k>=0.35.1\n",
            "\u001b[?25l  Downloading https://files.pythonhosted.org/packages/a9/cb/2c8332bcdc14d33b0bedd18ae0a4981a069c3513e445120da3c3f23a8aaa/jieba3k-0.35.1.zip (7.4MB)\n",
            "\u001b[K     |████████████████████████████████| 7.4MB 7.2MB/s \n",
            "\u001b[?25hRequirement already satisfied: beautifulsoup4>=4.4.1 in /usr/local/lib/python3.6/dist-packages (from newspaper3k) (4.6.3)\n",
            "Requirement already satisfied: python-dateutil>=2.5.3 in /usr/local/lib/python3.6/dist-packages (from newspaper3k) (2.8.1)\n",
            "Requirement already satisfied: requests>=2.10.0 in /usr/local/lib/python3.6/dist-packages (from newspaper3k) (2.23.0)\n",
            "Collecting cssselect>=0.9.2\n",
            "  Downloading https://files.pythonhosted.org/packages/3b/d4/3b5c17f00cce85b9a1e6f91096e1cc8e8ede2e1be8e96b87ce1ed09e92c5/cssselect-1.1.0-py2.py3-none-any.whl\n",
            "Collecting tinysegmenter==0.3\n",
            "  Downloading https://files.pythonhosted.org/packages/17/82/86982e4b6d16e4febc79c2a1d68ee3b707e8a020c5d2bc4af8052d0f136a/tinysegmenter-0.3.tar.gz\n",
            "Collecting feedfinder2>=0.0.4\n",
            "  Downloading https://files.pythonhosted.org/packages/35/82/1251fefec3bb4b03fd966c7e7f7a41c9fc2bb00d823a34c13f847fd61406/feedfinder2-0.0.4.tar.gz\n",
            "Requirement already satisfied: PyYAML>=3.11 in /usr/local/lib/python3.6/dist-packages (from newspaper3k) (3.13)\n",
            "Collecting feedparser>=5.2.1\n",
            "\u001b[?25l  Downloading https://files.pythonhosted.org/packages/91/d8/7d37fec71ff7c9dbcdd80d2b48bcdd86d6af502156fc93846fb0102cb2c4/feedparser-5.2.1.tar.bz2 (192kB)\n",
            "\u001b[K     |████████████████████████████████| 194kB 41.2MB/s \n",
            "\u001b[?25hRequirement already satisfied: nltk>=3.2.1 in /usr/local/lib/python3.6/dist-packages (from newspaper3k) (3.2.5)\n",
            "Collecting requests-file>=1.4\n",
            "  Downloading https://files.pythonhosted.org/packages/77/86/cdb5e8eaed90796aa83a6d9f75cfbd37af553c47a291cd47bc410ef9bdb2/requests_file-1.5.1-py2.py3-none-any.whl\n",
            "Requirement already satisfied: setuptools in /usr/local/lib/python3.6/dist-packages (from tldextract>=2.0.1->newspaper3k) (46.3.0)\n",
            "Requirement already satisfied: idna in /usr/local/lib/python3.6/dist-packages (from tldextract>=2.0.1->newspaper3k) (2.9)\n",
            "Requirement already satisfied: six>=1.5 in /usr/local/lib/python3.6/dist-packages (from python-dateutil>=2.5.3->newspaper3k) (1.12.0)\n",
            "Requirement already satisfied: chardet<4,>=3.0.2 in /usr/local/lib/python3.6/dist-packages (from requests>=2.10.0->newspaper3k) (3.0.4)\n",
            "Requirement already satisfied: certifi>=2017.4.17 in /usr/local/lib/python3.6/dist-packages (from requests>=2.10.0->newspaper3k) (2020.4.5.1)\n",
            "Requirement already satisfied: urllib3!=1.25.0,!=1.25.1,<1.26,>=1.21.1 in /usr/local/lib/python3.6/dist-packages (from requests>=2.10.0->newspaper3k) (1.24.3)\n",
            "Building wheels for collected packages: jieba3k, tinysegmenter, feedfinder2, feedparser\n",
            "  Building wheel for jieba3k (setup.py) ... \u001b[?25l\u001b[?25hdone\n",
            "  Created wheel for jieba3k: filename=jieba3k-0.35.1-cp36-none-any.whl size=7398406 sha256=7163e3099e681734be40470310f1c97458754c1b68e1b7a60b86b3a3893060be\n",
            "  Stored in directory: /root/.cache/pip/wheels/83/15/9c/a3f1f67e7f7181170ad37d32e503c35da20627c013f438ed34\n",
            "  Building wheel for tinysegmenter (setup.py) ... \u001b[?25l\u001b[?25hdone\n",
            "  Created wheel for tinysegmenter: filename=tinysegmenter-0.3-cp36-none-any.whl size=13539 sha256=738b1bed29cf876ec90f3438376991b8fd7e6d6ea64b4a1cd2b5e8ea8575ebba\n",
            "  Stored in directory: /root/.cache/pip/wheels/81/2b/43/a02ede72324dd40cdd7ca53aad718c7710628e91b8b0dc0f02\n",
            "  Building wheel for feedfinder2 (setup.py) ... \u001b[?25l\u001b[?25hdone\n",
            "  Created wheel for feedfinder2: filename=feedfinder2-0.0.4-cp36-none-any.whl size=3357 sha256=863afa720533781c72d6a2a42b9c43235ca0824449ebcbf8b1b9d03100dadd72\n",
            "  Stored in directory: /root/.cache/pip/wheels/de/03/ca/778e3a7a627e3d98836cc890e7cb40c7575424cfd3340f40ed\n",
            "  Building wheel for feedparser (setup.py) ... \u001b[?25l\u001b[?25hdone\n",
            "  Created wheel for feedparser: filename=feedparser-5.2.1-cp36-none-any.whl size=44940 sha256=cf8fb24324575c59afce4ae44bd11f7d4582d4b394c1f22a341798cac3a089aa\n",
            "  Stored in directory: /root/.cache/pip/wheels/8c/69/b7/f52763c41c5471df57703a0ef718a32a5e81ee35dcf6d4f97f\n",
            "Successfully built jieba3k tinysegmenter feedfinder2 feedparser\n",
            "Installing collected packages: requests-file, tldextract, jieba3k, cssselect, tinysegmenter, feedfinder2, feedparser, newspaper3k\n",
            "Successfully installed cssselect-1.1.0 feedfinder2-0.0.4 feedparser-5.2.1 jieba3k-0.35.1 newspaper3k-0.2.8 requests-file-1.5.1 tinysegmenter-0.3 tldextract-2.2.2\n"
          ],
          "name": "stdout"
        }
      ]
    },
    {
      "cell_type": "code",
      "metadata": {
        "id": "zscKuv02bbp-",
        "colab_type": "code",
        "colab": {
          "base_uri": "https://localhost:8080/",
          "height": 119
        },
        "outputId": "58570c61-4cf2-469d-f665-5ffebf332c8a"
      },
      "source": [
        "pip install sklearn"
      ],
      "execution_count": 20,
      "outputs": [
        {
          "output_type": "stream",
          "text": [
            "Requirement already satisfied: sklearn in /usr/local/lib/python3.6/dist-packages (0.0)\n",
            "Requirement already satisfied: scikit-learn in /usr/local/lib/python3.6/dist-packages (from sklearn) (0.23.0)\n",
            "Requirement already satisfied: joblib>=0.11 in /usr/local/lib/python3.6/dist-packages (from scikit-learn->sklearn) (0.14.1)\n",
            "Requirement already satisfied: scipy>=0.19.1 in /usr/local/lib/python3.6/dist-packages (from scikit-learn->sklearn) (1.4.1)\n",
            "Requirement already satisfied: threadpoolctl>=2.0.0 in /usr/local/lib/python3.6/dist-packages (from scikit-learn->sklearn) (2.0.0)\n",
            "Requirement already satisfied: numpy>=1.13.3 in /usr/local/lib/python3.6/dist-packages (from scikit-learn->sklearn) (1.18.4)\n"
          ],
          "name": "stdout"
        }
      ]
    },
    {
      "cell_type": "code",
      "metadata": {
        "id": "yQmYbPAAgfMG",
        "colab_type": "code",
        "colab": {}
      },
      "source": [
        "from newspaper import Article\n",
        "import random\n",
        "import string\n",
        "from sklearn.feature_extraction.text import TfidfVectorizer\n",
        "from sklearn.metrics.pairwise import cosine_similarity\n",
        "import nltk\n",
        "import numpy as np\n",
        "import warnings"
      ],
      "execution_count": 0,
      "outputs": []
    },
    {
      "cell_type": "code",
      "metadata": {
        "id": "P1XZPKiJorL-",
        "colab_type": "code",
        "colab": {}
      },
      "source": [
        "#Igonore any warning messages\n",
        "warnings.filterwarnings('ignore')"
      ],
      "execution_count": 0,
      "outputs": []
    },
    {
      "cell_type": "code",
      "metadata": {
        "id": "6Ez8K2iCpBVG",
        "colab_type": "code",
        "colab": {
          "base_uri": "https://localhost:8080/",
          "height": 34
        },
        "outputId": "03d08cf5-b8e4-4e18-ab23-48cd4e40d90d"
      },
      "source": [
        "#Download the packages from  NLTK\n",
        "nltk.download('punkt', quiet=True)\n",
        "nltk.download('wordnet', quiet=True)"
      ],
      "execution_count": 5,
      "outputs": [
        {
          "output_type": "execute_result",
          "data": {
            "text/plain": [
              "True"
            ]
          },
          "metadata": {
            "tags": []
          },
          "execution_count": 5
        }
      ]
    },
    {
      "cell_type": "code",
      "metadata": {
        "id": "GWm1aW-spbdL",
        "colab_type": "code",
        "colab": {
          "base_uri": "https://localhost:8080/",
          "height": 1000
        },
        "outputId": "7de6c119-8845-4803-98f4-bd4c4bfc3137"
      },
      "source": [
        "#Get the article URL\n",
        "article = Article('https://www.mayoclinic.org/diseases-conditions/chronic-fatigue-syndrome/symptoms-causes/syc-20360490')\n",
        "article.download()\n",
        "article.parse()\n",
        "article.nlp()\n",
        "corpus = article.text\n",
        "\n",
        "#Print the corpus text\n",
        "print(corpus)"
      ],
      "execution_count": 6,
      "outputs": [
        {
          "output_type": "stream",
          "text": [
            "Overview\n",
            "\n",
            "Chronic fatigue syndrome (CFS) is a complicated disorder characterized by extreme fatigue that can't be explained by any underlying medical condition. The fatigue may worsen with physical or mental activity, but doesn't improve with rest.\n",
            "\n",
            "This condition is also known as systemic exertion intolerance disease (SEID) or myalgic encephalomyelitis (ME). Sometimes it's abbreviated as ME/CFS.\n",
            "\n",
            "The cause of chronic fatigue syndrome is unknown, although there are many theories — ranging from viral infections to psychological stress. Some experts believe chronic fatigue syndrome might be triggered by a combination of factors.\n",
            "\n",
            "There's no single test to confirm a diagnosis of chronic fatigue syndrome. You may need a variety of medical tests to rule out other health problems that have similar symptoms. Treatment for chronic fatigue syndrome focuses on symptom relief.\n",
            "\n",
            "Symptoms\n",
            "\n",
            "Signs and symptoms may include:\n",
            "\n",
            "Fatigue\n",
            "\n",
            "Loss of memory or concentration\n",
            "\n",
            "Sore throat\n",
            "\n",
            "Enlarged lymph nodes in your neck or armpits\n",
            "\n",
            "Unexplained muscle or joint pain\n",
            "\n",
            "Headaches\n",
            "\n",
            "Unrefreshing sleep\n",
            "\n",
            "Extreme exhaustion lasting more than 24 hours after physical or mental exercise\n",
            "\n",
            "When to see a doctor\n",
            "\n",
            "Fatigue can be a symptom of many illnesses, such as infections or psychological disorders. In general, see your doctor if you have persistent or excessive fatigue.\n",
            "\n",
            "Causes\n",
            "\n",
            "People who have chronic fatigue syndrome appear to be hypersensitive to even normal amounts of exercise and activity.\n",
            "\n",
            "Why this occurs in some people and not others is still unknown. Some people may be born with a predisposition for the disorder, which is then triggered by a combination of factors. Potential triggers include:\n",
            "\n",
            "Viral infections. Because some people develop chronic fatigue syndrome after having a viral infection, researchers question whether some viruses might trigger the disorder. Suspicious viruses include Epstein-Barr virus, human herpes virus 6 and mouse leukemia viruses. No conclusive link has yet been found.\n",
            "\n",
            "Because some people develop chronic fatigue syndrome after having a viral infection, researchers question whether some viruses might trigger the disorder. Suspicious viruses include Epstein-Barr virus, human herpes virus 6 and mouse leukemia viruses. No conclusive link has yet been found. Immune system problems. The immune systems of people who have chronic fatigue syndrome appear to be impaired slightly, but it's unclear if this impairment is enough to actually cause the disorder\n",
            "\n",
            "The immune systems of people who have chronic fatigue syndrome appear to be impaired slightly, but it's unclear if this impairment is enough to actually cause the disorder Hormonal imbalances. People who have chronic fatigue syndrome also sometimes experience abnormal blood levels of hormones produced in the hypothalamus, pituitary glands or adrenal glands. But the significance of these abnormalities is still unknown.\n",
            "\n",
            "Risk factors\n",
            "\n",
            "Factors that may increase your risk of chronic fatigue syndrome include:\n",
            "\n",
            "Age. Chronic fatigue syndrome can occur at any age, but it most commonly affects people in their 40s and 50s.\n",
            "\n",
            "Chronic fatigue syndrome can occur at any age, but it most commonly affects people in their 40s and 50s. Sex. Women are diagnosed with chronic fatigue syndrome much more often than men, but it may be that women are simply more likely to report their symptoms to a doctor.\n",
            "\n",
            "Women are diagnosed with chronic fatigue syndrome much more often than men, but it may be that women are simply more likely to report their symptoms to a doctor. Stress. Difficulty managing stress may contribute to the development of chronic fatigue syndrome.\n",
            "\n",
            "Complications\n",
            "\n",
            "Possible complications of chronic fatigue syndrome include:\n"
          ],
          "name": "stdout"
        }
      ]
    },
    {
      "cell_type": "code",
      "metadata": {
        "id": "slw0lTnRqZC7",
        "colab_type": "code",
        "colab": {
          "base_uri": "https://localhost:8080/",
          "height": 54
        },
        "outputId": "45bbda5e-9c6f-4fbf-994f-d1957432286a"
      },
      "source": [
        "#Tokenization\n",
        "text = corpus\n",
        "sent_tokens = nltk.sent_tokenize(text) #Convert the text into list of sentences\n",
        "\n",
        "#Print the list of sentences\n",
        "print(sent_tokens)"
      ],
      "execution_count": 7,
      "outputs": [
        {
          "output_type": "stream",
          "text": [
            "[\"Overview\\n\\nChronic fatigue syndrome (CFS) is a complicated disorder characterized by extreme fatigue that can't be explained by any underlying medical condition.\", \"The fatigue may worsen with physical or mental activity, but doesn't improve with rest.\", 'This condition is also known as systemic exertion intolerance disease (SEID) or myalgic encephalomyelitis (ME).', \"Sometimes it's abbreviated as ME/CFS.\", 'The cause of chronic fatigue syndrome is unknown, although there are many theories — ranging from viral infections to psychological stress.', 'Some experts believe chronic fatigue syndrome might be triggered by a combination of factors.', \"There's no single test to confirm a diagnosis of chronic fatigue syndrome.\", 'You may need a variety of medical tests to rule out other health problems that have similar symptoms.', 'Treatment for chronic fatigue syndrome focuses on symptom relief.', 'Symptoms\\n\\nSigns and symptoms may include:\\n\\nFatigue\\n\\nLoss of memory or concentration\\n\\nSore throat\\n\\nEnlarged lymph nodes in your neck or armpits\\n\\nUnexplained muscle or joint pain\\n\\nHeadaches\\n\\nUnrefreshing sleep\\n\\nExtreme exhaustion lasting more than 24 hours after physical or mental exercise\\n\\nWhen to see a doctor\\n\\nFatigue can be a symptom of many illnesses, such as infections or psychological disorders.', 'In general, see your doctor if you have persistent or excessive fatigue.', 'Causes\\n\\nPeople who have chronic fatigue syndrome appear to be hypersensitive to even normal amounts of exercise and activity.', 'Why this occurs in some people and not others is still unknown.', 'Some people may be born with a predisposition for the disorder, which is then triggered by a combination of factors.', 'Potential triggers include:\\n\\nViral infections.', 'Because some people develop chronic fatigue syndrome after having a viral infection, researchers question whether some viruses might trigger the disorder.', 'Suspicious viruses include Epstein-Barr virus, human herpes virus 6 and mouse leukemia viruses.', 'No conclusive link has yet been found.', 'Because some people develop chronic fatigue syndrome after having a viral infection, researchers question whether some viruses might trigger the disorder.', 'Suspicious viruses include Epstein-Barr virus, human herpes virus 6 and mouse leukemia viruses.', 'No conclusive link has yet been found.', 'Immune system problems.', \"The immune systems of people who have chronic fatigue syndrome appear to be impaired slightly, but it's unclear if this impairment is enough to actually cause the disorder\\n\\nThe immune systems of people who have chronic fatigue syndrome appear to be impaired slightly, but it's unclear if this impairment is enough to actually cause the disorder Hormonal imbalances.\", 'People who have chronic fatigue syndrome also sometimes experience abnormal blood levels of hormones produced in the hypothalamus, pituitary glands or adrenal glands.', 'But the significance of these abnormalities is still unknown.', 'Risk factors\\n\\nFactors that may increase your risk of chronic fatigue syndrome include:\\n\\nAge.', 'Chronic fatigue syndrome can occur at any age, but it most commonly affects people in their 40s and 50s.', 'Chronic fatigue syndrome can occur at any age, but it most commonly affects people in their 40s and 50s.', 'Sex.', 'Women are diagnosed with chronic fatigue syndrome much more often than men, but it may be that women are simply more likely to report their symptoms to a doctor.', 'Women are diagnosed with chronic fatigue syndrome much more often than men, but it may be that women are simply more likely to report their symptoms to a doctor.', 'Stress.', 'Difficulty managing stress may contribute to the development of chronic fatigue syndrome.', 'Complications\\n\\nPossible complications of chronic fatigue syndrome include:']\n"
          ],
          "name": "stdout"
        }
      ]
    },
    {
      "cell_type": "code",
      "metadata": {
        "id": "yGPuBGUxq7Rc",
        "colab_type": "code",
        "colab": {
          "base_uri": "https://localhost:8080/",
          "height": 71
        },
        "outputId": "789cc8e7-5c07-47e0-c3d1-a391cd9708da"
      },
      "source": [
        "#Create a Dictonary(key:value ) pair to remove punctuations\n",
        "remove_punct_dict = dict( ( ord(punct),None) for punct in string.punctuation )\n",
        "\n",
        "#Print the punctuation\n",
        "print(string.punctuation)\n",
        "\n",
        "#Print the dictionary\n",
        "print(remove_punct_dict)"
      ],
      "execution_count": 8,
      "outputs": [
        {
          "output_type": "stream",
          "text": [
            "!\"#$%&'()*+,-./:;<=>?@[\\]^_`{|}~\n",
            "{33: None, 34: None, 35: None, 36: None, 37: None, 38: None, 39: None, 40: None, 41: None, 42: None, 43: None, 44: None, 45: None, 46: None, 47: None, 58: None, 59: None, 60: None, 61: None, 62: None, 63: None, 64: None, 91: None, 92: None, 93: None, 94: None, 95: None, 96: None, 123: None, 124: None, 125: None, 126: None}\n"
          ],
          "name": "stdout"
        }
      ]
    },
    {
      "cell_type": "code",
      "metadata": {
        "id": "F989vCqQtLA4",
        "colab_type": "code",
        "colab": {
          "base_uri": "https://localhost:8080/",
          "height": 54
        },
        "outputId": "90c999f5-eef6-4c36-9f3e-ffcda3dba807"
      },
      "source": [
        "#create a function to return a list of lemmantized lower case words after removing punctuations\n",
        "def LemNormalize(text):\n",
        "  return nltk.word_tokenize(text.lower().translate(remove_punct_dict))\n",
        "\n",
        "#Print the tokenization text\n",
        "print(LemNormalize(text))"
      ],
      "execution_count": 9,
      "outputs": [
        {
          "output_type": "stream",
          "text": [
            "['overview', 'chronic', 'fatigue', 'syndrome', 'cfs', 'is', 'a', 'complicated', 'disorder', 'characterized', 'by', 'extreme', 'fatigue', 'that', 'cant', 'be', 'explained', 'by', 'any', 'underlying', 'medical', 'condition', 'the', 'fatigue', 'may', 'worsen', 'with', 'physical', 'or', 'mental', 'activity', 'but', 'doesnt', 'improve', 'with', 'rest', 'this', 'condition', 'is', 'also', 'known', 'as', 'systemic', 'exertion', 'intolerance', 'disease', 'seid', 'or', 'myalgic', 'encephalomyelitis', 'me', 'sometimes', 'its', 'abbreviated', 'as', 'mecfs', 'the', 'cause', 'of', 'chronic', 'fatigue', 'syndrome', 'is', 'unknown', 'although', 'there', 'are', 'many', 'theories', '—', 'ranging', 'from', 'viral', 'infections', 'to', 'psychological', 'stress', 'some', 'experts', 'believe', 'chronic', 'fatigue', 'syndrome', 'might', 'be', 'triggered', 'by', 'a', 'combination', 'of', 'factors', 'theres', 'no', 'single', 'test', 'to', 'confirm', 'a', 'diagnosis', 'of', 'chronic', 'fatigue', 'syndrome', 'you', 'may', 'need', 'a', 'variety', 'of', 'medical', 'tests', 'to', 'rule', 'out', 'other', 'health', 'problems', 'that', 'have', 'similar', 'symptoms', 'treatment', 'for', 'chronic', 'fatigue', 'syndrome', 'focuses', 'on', 'symptom', 'relief', 'symptoms', 'signs', 'and', 'symptoms', 'may', 'include', 'fatigue', 'loss', 'of', 'memory', 'or', 'concentration', 'sore', 'throat', 'enlarged', 'lymph', 'nodes', 'in', 'your', 'neck', 'or', 'armpits', 'unexplained', 'muscle', 'or', 'joint', 'pain', 'headaches', 'unrefreshing', 'sleep', 'extreme', 'exhaustion', 'lasting', 'more', 'than', '24', 'hours', 'after', 'physical', 'or', 'mental', 'exercise', 'when', 'to', 'see', 'a', 'doctor', 'fatigue', 'can', 'be', 'a', 'symptom', 'of', 'many', 'illnesses', 'such', 'as', 'infections', 'or', 'psychological', 'disorders', 'in', 'general', 'see', 'your', 'doctor', 'if', 'you', 'have', 'persistent', 'or', 'excessive', 'fatigue', 'causes', 'people', 'who', 'have', 'chronic', 'fatigue', 'syndrome', 'appear', 'to', 'be', 'hypersensitive', 'to', 'even', 'normal', 'amounts', 'of', 'exercise', 'and', 'activity', 'why', 'this', 'occurs', 'in', 'some', 'people', 'and', 'not', 'others', 'is', 'still', 'unknown', 'some', 'people', 'may', 'be', 'born', 'with', 'a', 'predisposition', 'for', 'the', 'disorder', 'which', 'is', 'then', 'triggered', 'by', 'a', 'combination', 'of', 'factors', 'potential', 'triggers', 'include', 'viral', 'infections', 'because', 'some', 'people', 'develop', 'chronic', 'fatigue', 'syndrome', 'after', 'having', 'a', 'viral', 'infection', 'researchers', 'question', 'whether', 'some', 'viruses', 'might', 'trigger', 'the', 'disorder', 'suspicious', 'viruses', 'include', 'epsteinbarr', 'virus', 'human', 'herpes', 'virus', '6', 'and', 'mouse', 'leukemia', 'viruses', 'no', 'conclusive', 'link', 'has', 'yet', 'been', 'found', 'because', 'some', 'people', 'develop', 'chronic', 'fatigue', 'syndrome', 'after', 'having', 'a', 'viral', 'infection', 'researchers', 'question', 'whether', 'some', 'viruses', 'might', 'trigger', 'the', 'disorder', 'suspicious', 'viruses', 'include', 'epsteinbarr', 'virus', 'human', 'herpes', 'virus', '6', 'and', 'mouse', 'leukemia', 'viruses', 'no', 'conclusive', 'link', 'has', 'yet', 'been', 'found', 'immune', 'system', 'problems', 'the', 'immune', 'systems', 'of', 'people', 'who', 'have', 'chronic', 'fatigue', 'syndrome', 'appear', 'to', 'be', 'impaired', 'slightly', 'but', 'its', 'unclear', 'if', 'this', 'impairment', 'is', 'enough', 'to', 'actually', 'cause', 'the', 'disorder', 'the', 'immune', 'systems', 'of', 'people', 'who', 'have', 'chronic', 'fatigue', 'syndrome', 'appear', 'to', 'be', 'impaired', 'slightly', 'but', 'its', 'unclear', 'if', 'this', 'impairment', 'is', 'enough', 'to', 'actually', 'cause', 'the', 'disorder', 'hormonal', 'imbalances', 'people', 'who', 'have', 'chronic', 'fatigue', 'syndrome', 'also', 'sometimes', 'experience', 'abnormal', 'blood', 'levels', 'of', 'hormones', 'produced', 'in', 'the', 'hypothalamus', 'pituitary', 'glands', 'or', 'adrenal', 'glands', 'but', 'the', 'significance', 'of', 'these', 'abnormalities', 'is', 'still', 'unknown', 'risk', 'factors', 'factors', 'that', 'may', 'increase', 'your', 'risk', 'of', 'chronic', 'fatigue', 'syndrome', 'include', 'age', 'chronic', 'fatigue', 'syndrome', 'can', 'occur', 'at', 'any', 'age', 'but', 'it', 'most', 'commonly', 'affects', 'people', 'in', 'their', '40s', 'and', '50s', 'chronic', 'fatigue', 'syndrome', 'can', 'occur', 'at', 'any', 'age', 'but', 'it', 'most', 'commonly', 'affects', 'people', 'in', 'their', '40s', 'and', '50s', 'sex', 'women', 'are', 'diagnosed', 'with', 'chronic', 'fatigue', 'syndrome', 'much', 'more', 'often', 'than', 'men', 'but', 'it', 'may', 'be', 'that', 'women', 'are', 'simply', 'more', 'likely', 'to', 'report', 'their', 'symptoms', 'to', 'a', 'doctor', 'women', 'are', 'diagnosed', 'with', 'chronic', 'fatigue', 'syndrome', 'much', 'more', 'often', 'than', 'men', 'but', 'it', 'may', 'be', 'that', 'women', 'are', 'simply', 'more', 'likely', 'to', 'report', 'their', 'symptoms', 'to', 'a', 'doctor', 'stress', 'difficulty', 'managing', 'stress', 'may', 'contribute', 'to', 'the', 'development', 'of', 'chronic', 'fatigue', 'syndrome', 'complications', 'possible', 'complications', 'of', 'chronic', 'fatigue', 'syndrome', 'include']\n"
          ],
          "name": "stdout"
        }
      ]
    },
    {
      "cell_type": "code",
      "metadata": {
        "id": "3_uN-nRNt9zO",
        "colab_type": "code",
        "colab": {}
      },
      "source": [
        "#keyword Matching\n",
        "#Greeting Inputs\n",
        "GREETING_INPUTS = [\"hi\",\"hello\",\"hola\",\"greetings\",\"wassup\",\"hey\",\"cioa\",\"salute\"]\n",
        "\n",
        "#Greeting responses back to the user\n",
        "GREETING_RESPONSES =[\"howdy\",\"hi\",\"hey\",\"who's good\",\"hello\",\"hey there\"]\n",
        "\n",
        "#Function to return a random greeting response to users greeting\n",
        "def greeting(sentence):\n",
        "\n",
        "  #If the users input is a greeting then return a randomly chosen greeting response\n",
        "  for word in sentence.split():\n",
        "    if word.lower() in GREETING_INPUTS:\n",
        "      return random.choice(GREETING_RESPONSES)\n"
      ],
      "execution_count": 0,
      "outputs": []
    },
    {
      "cell_type": "code",
      "metadata": {
        "id": "U7a3frBjTPpV",
        "colab_type": "code",
        "colab": {}
      },
      "source": [
        "#Generate the response\n",
        "def response(user_response):\n",
        "\n",
        "  #user_response = 'what is chronic kidney disese'\n",
        "\n",
        "  user_response = user_response.lower()  #Make the response in lower case\n",
        "\n",
        "  #Print the users response\n",
        "  #print(user_response)\n",
        "\n",
        "  #Set the chatbot response to an empty string\n",
        "  robo_response = ''\n",
        "\n",
        "  #Append the users responses to the sentence list\n",
        "  sent_tokens.append(user_response)\n",
        "\n",
        "  #Print the sentence list after appending the users response\n",
        "  #print(sent_tokens)\n",
        "\n",
        "  #Create a TfidfVectorizer object\n",
        "  TfidfVec = TfidfVectorizer(tokenizer = LemNormalize, stop_words='english')\n",
        "\n",
        "  #Convert the text to a matrix of TF-IDF features\n",
        "  tfidf = TfidfVec.fit_transform(sent_tokens)\n",
        "\n",
        "  #Print the TFIDF features\n",
        "  #print(tfidf)\n",
        "\n",
        "  #Get the measure of similarity(similarity scores)\n",
        "  vals = cosine_similarity(tfidf[-1], tfidf)\n",
        "  #print(vals)\n",
        "\n",
        "  #Get the index of the most similar text to the users response\n",
        "  idx = vals.argsort()[0][-2]\n",
        "\n",
        "  #Reduce the dimensionality of vals\n",
        "  flat = vals.flatten()\n",
        "\n",
        "  #sort the list in ascending order\n",
        "  flat.sort()\n",
        "\n",
        "  #Get the most similar score to the users reponse\n",
        "  score = flat[-2]\n",
        "\n",
        "  #Print the similarity score\n",
        "  #print(score)\n",
        "\n",
        "  #If the variable 'score' is 0 then there is no text similar to users response\n",
        "  if(score ==0):\n",
        "     robo_response = robo_response+\"I apologize,I don't understand\"\n",
        "  else:\n",
        "    robo_response = robo_response+sent_tokens[idx]\n",
        "\n",
        "   \n",
        "  #Print the chat bot response\n",
        "  #print(robo_response)\n",
        "\n",
        "  #Remove the  users response from the sentence tokens list\n",
        "  sent_tokens.remove(user_response)\n",
        "\n",
        "  return robo_response\n",
        "  \n",
        "\n",
        "\n"
      ],
      "execution_count": 0,
      "outputs": []
    },
    {
      "cell_type": "code",
      "metadata": {
        "id": "V7Jjxa6vcUlU",
        "colab_type": "code",
        "colab": {
          "base_uri": "https://localhost:8080/",
          "height": 204
        },
        "outputId": "863d48f0-d134-4d7c-9632-e2af5aa13305"
      },
      "source": [
        "flag = True\n",
        "print(\"DOCBot: I am Doctor for short.I will answer your queries about Chronic Kidney Disease. If you want to exit, type Bye!\")\n",
        "while(flag == True):\n",
        "  user_response = input()\n",
        "  user_response = user_response.lower()\n",
        "  if(user_response != 'bye'):\n",
        "    if(user_response == 'thanks' or user_response == 'thank you'):\n",
        "      flag=False\n",
        "      print(\"DOCBot: You are welcome !\")\n",
        "    else:\n",
        "      if(greeting(user_response) != None):\n",
        "        print(\"DOCBot : \"+greeting(user_response)) \n",
        "      else:\n",
        "        print(\"DOCBot : \"+response(user_response))\n",
        "         \n",
        "  else:\n",
        "    flag = False\n",
        "    print(\"DOCBot: Chat with you later !\")\n",
        "\n"
      ],
      "execution_count": 24,
      "outputs": [
        {
          "output_type": "stream",
          "text": [
            "DOCBot: I am Doctor for short.I will answer your queries about Chronic Kidney Disease. If you want to exit, type Bye!\n",
            "hello\n",
            "DOCBot : hi\n",
            "how are you\n",
            "DOCBot : I apologize,I don't understand\n",
            "are you okay\n",
            "DOCBot : I apologize,I don't understand\n",
            "what is chronic disesase\n",
            "DOCBot : Treatment for chronic fatigue syndrome focuses on symptom relief.\n",
            "thanks\n",
            "DOCBot: You are welcome !\n"
          ],
          "name": "stdout"
        }
      ]
    },
    {
      "cell_type": "code",
      "metadata": {
        "id": "WcuFKJXBe5ym",
        "colab_type": "code",
        "colab": {}
      },
      "source": [
        ""
      ],
      "execution_count": 0,
      "outputs": []
    }
  ]
}